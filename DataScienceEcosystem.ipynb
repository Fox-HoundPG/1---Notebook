{
 "cells": [
  {
   "cell_type": "markdown",
   "id": "2312476d-4d02-49fa-bb8c-5d50cc692fa5",
   "metadata": {},
   "source": [
    "# Data Science Tools and Ecosystem"
   ]
  },
  {
   "cell_type": "markdown",
   "id": "0eef7a56-dfa1-44b1-9f47-f36eb6395ed1",
   "metadata": {},
   "source": [
    "In this notebook, Data Science Tools and Ecosystem are summarized."
   ]
  },
  {
   "cell_type": "markdown",
   "id": "617fcdca-6624-4115-9895-c5439447396d",
   "metadata": {},
   "source": [
    "**Objectives:"
   ]
  },
  {
   "cell_type": "markdown",
   "id": "0e0dbfc9-c6db-4723-b3d8-5c159e372e5b",
   "metadata": {},
   "source": [
    "- List popular languages that Data Scientists use are\n",
    "- List commonly used libraries used by Data Scientists include\n",
    "- few examples of evaluating arithmetic expressions in Python"
   ]
  },
  {
   "cell_type": "markdown",
   "id": "5158cc25-0590-4af5-8678-ccf89b601163",
   "metadata": {},
   "source": [
    "Some of the popular languages that Data Scientists use are:"
   ]
  },
  {
   "cell_type": "markdown",
   "id": "04b2e3ef-a9ed-4ee0-9618-9aaa0a393f88",
   "metadata": {},
   "source": [
    "1. Python\n",
    "2. Java\n",
    "3. C++\n",
    "4. C"
   ]
  },
  {
   "cell_type": "markdown",
   "id": "1338151b-fdcf-4f9e-b75c-bfe168a9a8e9",
   "metadata": {},
   "source": [
    "Some of the commonly used libraries used by Data Scientists include:"
   ]
  },
  {
   "cell_type": "markdown",
   "id": "b80a660c-a068-4ecf-b50a-4238c07650ad",
   "metadata": {},
   "source": [
    "1. Pandas\n",
    "2. ScyPy\n",
    "3. NumPy"
   ]
  },
  {
   "cell_type": "markdown",
   "id": "4794d5f6-b35f-46ae-bff6-e07f5e9f5508",
   "metadata": {},
   "source": [
    "| Data Science Tools |\n",
    "| ------------------ |\n",
    "| Jupyter Notebook |\n",
    "| Hadoop |\n",
    "| RStudio |"
   ]
  },
  {
   "cell_type": "markdown",
   "id": "96e07c36-0361-4e86-a40d-4efb3e992d16",
   "metadata": {},
   "source": [
    "### Below are a few examples of evaluating arithmetic expressions in Python"
   ]
  },
  {
   "cell_type": "code",
   "execution_count": 19,
   "id": "3dd69f3b-9535-4fe3-a472-e66e036add66",
   "metadata": {
    "tags": []
   },
   "outputs": [
    {
     "data": {
      "text/plain": [
       "17"
      ]
     },
     "execution_count": 19,
     "metadata": {},
     "output_type": "execute_result"
    }
   ],
   "source": [
    "#This a simple arithmetic expression to mutiply then add integers\n",
    "\n",
    "(3*4)+5"
   ]
  },
  {
   "cell_type": "code",
   "execution_count": 20,
   "id": "a5e0612c-b2cc-43d6-8819-14907e1f6f31",
   "metadata": {
    "tags": []
   },
   "outputs": [
    {
     "data": {
      "text/plain": [
       "3.3333333333333335"
      ]
     },
     "execution_count": 20,
     "metadata": {},
     "output_type": "execute_result"
    }
   ],
   "source": [
    "#This will convert 200 minutes to hours by diving by 60\n",
    "\n",
    "200/60"
   ]
  },
  {
   "cell_type": "markdown",
   "id": "a92ab3f0-b949-4617-9621-43feca8d261f",
   "metadata": {},
   "source": [
    "## Author\n",
    "Pedro Casanova"
   ]
  },
  {
   "cell_type": "code",
   "execution_count": null,
   "id": "173d3ebc-ecdb-41a1-90b9-5abdda157e6c",
   "metadata": {},
   "outputs": [],
   "source": []
  }
 ],
 "metadata": {
  "kernelspec": {
   "display_name": "Python",
   "language": "python",
   "name": "conda-env-python-py"
  },
  "language_info": {
   "codemirror_mode": {
    "name": "ipython",
    "version": 3
   },
   "file_extension": ".py",
   "mimetype": "text/x-python",
   "name": "python",
   "nbconvert_exporter": "python",
   "pygments_lexer": "ipython3",
   "version": "3.7.12"
  }
 },
 "nbformat": 4,
 "nbformat_minor": 5
}
